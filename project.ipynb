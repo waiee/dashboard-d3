{
 "cells": [
  {
   "cell_type": "code",
   "execution_count": 15,
   "metadata": {},
   "outputs": [
    {
     "name": "stdout",
     "output_type": "stream",
     "text": [
      "Cleaned data saved to cleaned_data.csv\n",
      "All missing values have been filled.\n"
     ]
    }
   ],
   "source": [
    "import pandas as pd\n",
    "\n",
    "# Load your dataset\n",
    "file_path = 'dataset/data.csv'  # Replace with the path to your CSV file\n",
    "df = pd.read_csv(file_path)\n",
    "\n",
    "# Function to clean and save DataFrame\n",
    "def clean_and_save(dataframe, output_file):\n",
    "    # Fill NaN values for numerical columns with the mean\n",
    "    for column in dataframe.select_dtypes(include=['float64', 'int64']).columns:\n",
    "        mean_value = dataframe[column].mean()\n",
    "        dataframe[column].fillna(mean_value, inplace=True)\n",
    "    \n",
    "    # Fill NaN values for categorical columns with the mode\n",
    "    for column in dataframe.select_dtypes(include=['object']).columns:\n",
    "        mode_value = dataframe[column].mode()[0]\n",
    "        dataframe[column].fillna(mode_value, inplace=True)\n",
    "\n",
    "    # Save cleaned DataFrame to CSV\n",
    "    try:\n",
    "        dataframe.to_csv(output_file, index=False)\n",
    "        print(f\"Cleaned data saved to {output_file}\")\n",
    "    except PermissionError as e:\n",
    "        print(f\"PermissionError: {e}\")\n",
    "    except Exception as e:\n",
    "        print(f\"Error occurred while saving: {e}\")\n",
    "\n",
    "# Specify the output file path\n",
    "output_file_path = 'cleaned_data.csv'\n",
    "\n",
    "# Clean and save the DataFrame\n",
    "clean_and_save(df, output_file_path)\n",
    "\n",
    "# Check for any remaining null values\n",
    "remaining_nulls = df.isnull().sum().sum()\n",
    "if remaining_nulls == 0:\n",
    "    print(\"All missing values have been filled.\")\n",
    "else:\n",
    "    print(f\"There are still {remaining_nulls} missing values in the DataFrame.\")\n"
   ]
  },
  {
   "cell_type": "code",
   "execution_count": 9,
   "metadata": {},
   "outputs": [
    {
     "data": {
      "text/plain": [
       "Year                              0\n",
       "Seq                               0\n",
       "Glide                         14545\n",
       "Disaster Group                    0\n",
       "Disaster Subgroup                 0\n",
       "Disaster Type                     0\n",
       "Disaster Subtype               3110\n",
       "Disaster Subsubtype           15049\n",
       "Event Name                    12265\n",
       "Country                           0\n",
       "ISO                               0\n",
       "Region                            0\n",
       "Continent                         0\n",
       "Location                       1792\n",
       "Origin                        12332\n",
       "Associated Dis                12778\n",
       "Associated Dis2               15419\n",
       "OFDA Response                 14432\n",
       "Appeal                        13557\n",
       "Declaration                   12870\n",
       "Aid Contribution                  0\n",
       "Dis Mag Value                     0\n",
       "Dis Mag Scale                  1190\n",
       "Latitude                      13397\n",
       "Longitude                     13394\n",
       "Local Time                    15023\n",
       "River Basin                   14839\n",
       "Start Year                        0\n",
       "Start Month                       0\n",
       "Start Day                         0\n",
       "End Year                          0\n",
       "End Month                         0\n",
       "End Day                           0\n",
       "Total Deaths                      0\n",
       "No Injured                        0\n",
       "No Affected                       0\n",
       "No Homeless                       0\n",
       "Total Affected                    0\n",
       "Insured Damages ('000 US$)        0\n",
       "Total Damages ('000 US$)          0\n",
       "CPI                               0\n",
       "Adm Level                      8267\n",
       "Admin1 Code                   11545\n",
       "Admin2 Code                   12157\n",
       "Geo Locations                  8267\n",
       "dtype: int64"
      ]
     },
     "execution_count": 9,
     "metadata": {},
     "output_type": "execute_result"
    }
   ],
   "source": [
    "new_df = pd.read_csv('cleaned_data.csv')\n",
    "new_df.isnull().sum()"
   ]
  },
  {
   "cell_type": "code",
   "execution_count": null,
   "metadata": {},
   "outputs": [],
   "source": []
  }
 ],
 "metadata": {
  "kernelspec": {
   "display_name": "Python 3",
   "language": "python",
   "name": "python3"
  },
  "language_info": {
   "codemirror_mode": {
    "name": "ipython",
    "version": 3
   },
   "file_extension": ".py",
   "mimetype": "text/x-python",
   "name": "python",
   "nbconvert_exporter": "python",
   "pygments_lexer": "ipython3",
   "version": "3.10.5"
  }
 },
 "nbformat": 4,
 "nbformat_minor": 2
}
