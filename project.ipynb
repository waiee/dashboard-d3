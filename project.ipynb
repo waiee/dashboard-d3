{
 "cells": [
  {
   "cell_type": "code",
   "execution_count": 8,
   "metadata": {},
   "outputs": [
    {
     "name": "stderr",
     "output_type": "stream",
     "text": [
      "C:\\Users\\waiee\\AppData\\Local\\Temp\\ipykernel_2620\\4108021695.py:10: FutureWarning: Dropping of nuisance columns in DataFrame reductions (with 'numeric_only=None') is deprecated; in a future version this will raise TypeError.  Select only valid columns before calling the reduction.\n",
      "  dataframe.fillna(dataframe.mean(), inplace=True)\n"
     ]
    },
    {
     "name": "stdout",
     "output_type": "stream",
     "text": [
      "Cleaned data saved to cleaned_data.csv\n"
     ]
    }
   ],
   "source": [
    "import pandas as pd\n",
    "\n",
    "# Load your dataset\n",
    "file_path = 'dataset/data.csv'  # Replace with the path to your CSV file\n",
    "df = pd.read_csv(file_path)\n",
    "\n",
    "# Function to clean and save DataFrame\n",
    "def clean_and_save(dataframe, output_file):\n",
    "    # Clean your data (example: filling missing values)\n",
    "    dataframe.fillna(dataframe.mean(), inplace=True)\n",
    "    \n",
    "    # Save cleaned DataFrame to CSV\n",
    "    try:\n",
    "        dataframe.to_csv(output_file, index=False)\n",
    "        print(f\"Cleaned data saved to {output_file}\")\n",
    "    except PermissionError as e:\n",
    "        print(f\"PermissionError: {e}\")\n",
    "    except Exception as e:\n",
    "        print(f\"Error occurred while saving: {e}\")\n",
    "\n",
    "# Specify the output file path\n",
    "output_file_path = 'cleaned_data.csv'\n",
    "\n",
    "# Clean and save the DataFrame\n",
    "clean_and_save(df, output_file_path)\n"
   ]
  }
 ],
 "metadata": {
  "kernelspec": {
   "display_name": "Python 3",
   "language": "python",
   "name": "python3"
  },
  "language_info": {
   "codemirror_mode": {
    "name": "ipython",
    "version": 3
   },
   "file_extension": ".py",
   "mimetype": "text/x-python",
   "name": "python",
   "nbconvert_exporter": "python",
   "pygments_lexer": "ipython3",
   "version": "3.10.5"
  }
 },
 "nbformat": 4,
 "nbformat_minor": 2
}
